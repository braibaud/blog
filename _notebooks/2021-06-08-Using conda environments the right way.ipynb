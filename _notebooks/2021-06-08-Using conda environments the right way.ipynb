{
 "cells": [
  {
   "cell_type": "markdown",
   "metadata": {},
   "source": [
    "# Using conda environments the right way\n",
    "> Instructions on setting up and using conda environment the right way on Windows.\n",
    "\n",
    "- toc: false \n",
    "- badges: false\n",
    "- comments: true\n",
    "- categories: [python, conda, environment]\n",
    "- image: images/copied_from_nb/images/2021-06-08-using-conda-environments-the-right-way-main.jpg"
   ]
  },
  {
   "cell_type": "markdown",
   "metadata": {},
   "source": [
    "# About\n",
    "\n",
    "Here is a description of my preferred way of working with **Jupyter** (being either **Notebook** or **Lab**). The plan is to basically keep the **Jupyter** installation within the `base` environment. Each additional virtual environment is then exposed via an `IPython` kernel and used via **Jupyter**. \n",
    "\n",
    "![](./images/2021-06-08-using-conda-environments-the-right-way-main.jpg \"Photo by Andrea Davis\")"
   ]
  },
  {
   "cell_type": "markdown",
   "metadata": {},
   "source": [
    "# Procedure"
   ]
  },
  {
   "cell_type": "markdown",
   "metadata": {
    "ExecuteTime": {
     "end_time": "2021-06-02T07:23:06.357482Z",
     "start_time": "2021-06-02T07:22:52.649487Z"
    }
   },
   "source": [
    "1. install `anaconda`.\n",
    "> install in `user` mode and not in `admin` mode.\n",
    "2. start the `Anaconda Prompt (anaconda3)` using start menu.\n",
    "> this should automatically activate the `base` environment.\n",
    "3. create a `conda` environment named (for example) `data-science-env`.\n",
    "> `conda create --name data-science-env python=3.8`\n",
    "4. activate the `conda` environment.\n",
    "> `conda activate data-science-env`\n",
    "5. install any required `package` using `conda` or `pip`.\n",
    "> `pip install scikit-learn` or `conda install scikit-learn`\n",
    "6. create a notebook kernel connected with the conda environment just created.\n",
    "> `python -m ipykernel install --user --name data-science-env --display-name data-science-env-kernel`\n",
    "\n",
    "![](./images/create-ipython-kernel.jpg)\n",
    "\n",
    "7. use the `base` environment to start `jupyter-notebook` or `jupyter-lab`.\n",
    "> You should find a kernel named `data-science-env-kernel`."
   ]
  }
 ],
 "metadata": {
  "kernelspec": {
   "display_name": "blog-env-kernel",
   "language": "python",
   "name": "blog-env"
  },
  "language_info": {
   "codemirror_mode": {
    "name": "ipython",
    "version": 3
   },
   "file_extension": ".py",
   "mimetype": "text/x-python",
   "name": "python",
   "nbconvert_exporter": "python",
   "pygments_lexer": "ipython3",
   "version": "3.7.7"
  },
  "toc": {
   "base_numbering": 1,
   "nav_menu": {},
   "number_sections": true,
   "sideBar": true,
   "skip_h1_title": true,
   "title_cell": "Table of Contents",
   "title_sidebar": "Contents",
   "toc_cell": false,
   "toc_position": {},
   "toc_section_display": true,
   "toc_window_display": true
  }
 },
 "nbformat": 4,
 "nbformat_minor": 5
}
