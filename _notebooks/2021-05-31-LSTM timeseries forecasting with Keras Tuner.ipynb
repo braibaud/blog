{
 "cells": [
  {
   "cell_type": "markdown",
   "id": "3974bbc5",
   "metadata": {},
   "source": [
    "# LSTM timeseries forecasting with Keras Tuner\n",
    "> A example of using an LSTM network to forecast timeseries, using Keras Tuner for hyperparameters tuning.\n",
    "\n",
    "- toc: true \n",
    "- badges: true\n",
    "- comments: true\n",
    "- categories: [lstm, keras, keras tuner, python, machine learning, timeseries]\n",
    "- image: images/2021-05-31-LSTM timeseries forecasting with Keras Tuner-MAIN.jpg"
   ]
  },
  {
   "cell_type": "markdown",
   "id": "94f8ce33",
   "metadata": {},
   "source": [
    "# About\n",
    "\n",
    "This notebook is a demonstration of some of capabilities of [Keras Tuner](https://github.com/keras-team/keras-tuner). This project is an attempt to use an `LSTM` based neural network (RNN) to forecast `timeseries` data."
   ]
  },
  {
   "cell_type": "markdown",
   "id": "cd1b2908",
   "metadata": {},
   "source": [
    "## The required libraries"
   ]
  },
  {
   "cell_type": "markdown",
   "id": "867b6f51",
   "metadata": {},
   "source": [
    "Import the `must-have` libraries:"
   ]
  },
  {
   "cell_type": "code",
   "execution_count": 1,
   "id": "462aa978",
   "metadata": {
    "ExecuteTime": {
     "end_time": "2021-05-31T20:24:21.047237Z",
     "start_time": "2021-05-31T20:24:20.703301Z"
    }
   },
   "outputs": [],
   "source": [
    "#collapse-output\n",
    "import numpy as np\n",
    "import pandas as pd\n",
    "import datetime as dt"
   ]
  },
  {
   "cell_type": "markdown",
   "id": "aaab8f22",
   "metadata": {},
   "source": [
    "Import the `keras` elements from the `tensorflow` library:"
   ]
  },
  {
   "cell_type": "code",
   "execution_count": 2,
   "id": "89d9c857",
   "metadata": {
    "ExecuteTime": {
     "end_time": "2021-05-31T09:39:53.351252Z",
     "start_time": "2021-05-31T09:39:53.343363Z"
    }
   },
   "outputs": [],
   "source": [
    "#collapse-output\n",
    "import tensorflow as tf\n",
    "from tensorflow import keras as k\n",
    "from tensorflow.keras import backend as kb\n",
    "from tensorflow.keras import callbacks as kc\n",
    "from tensorflow.keras import models as km\n",
    "from tensorflow.keras import layers as kl\n",
    "from tensorflow.keras import regularizers as kr\n",
    "from tensorflow.keras import optimizers as ko\n",
    "from tensorflow.keras import utils as ku"
   ]
  },
  {
   "cell_type": "markdown",
   "id": "b58ab82f",
   "metadata": {},
   "source": [
    "Import the `keras-tuner` library as we'll use it to tune `hyperparameters`:"
   ]
  },
  {
   "cell_type": "code",
   "execution_count": 3,
   "id": "ae0cae2b",
   "metadata": {
    "ExecuteTime": {
     "end_time": "2021-05-31T09:39:55.256834Z",
     "start_time": "2021-05-31T09:39:55.147731Z"
    }
   },
   "outputs": [],
   "source": [
    "#collapse-output\n",
    "import kerastuner as kt\n",
    "from kerastuner import tuners as ktt"
   ]
  },
  {
   "cell_type": "markdown",
   "id": "20072e3c",
   "metadata": {},
   "source": [
    "Import the `mlviz` library used to plot `time-series` visualizations:"
   ]
  },
  {
   "cell_type": "code",
   "execution_count": 5,
   "id": "047d299c",
   "metadata": {},
   "outputs": [],
   "source": [
    "#collapse-output\n",
    "from mlviz.timeseries import visualizationhelpers as mwvh\n",
    "from mlviz.utilities import graphichelpers as mwgh"
   ]
  },
  {
   "cell_type": "markdown",
   "id": "2ee36dde",
   "metadata": {},
   "source": [
    "## The timeseries data"
   ]
  },
  {
   "cell_type": "markdown",
   "id": "3a45b5e7",
   "metadata": {},
   "source": [
    "The input data is available in a `csv` file named `2021-05-31-LSTM timeseries forecasting with Keras Tuner-DATA.csv` located in the `data` folder. It has got 2 columns `date` containing the date of event and `value` holding the value of the source. We'll rename these 2 columns as `ds` and `y` for convenience. Let's load the `csv` file using the `pandas` library and have a look at the data."
   ]
  },
  {
   "cell_type": "code",
   "execution_count": 24,
   "id": "f37d6d34",
   "metadata": {
    "ExecuteTime": {
     "end_time": "2021-05-31T09:13:29.087949Z",
     "start_time": "2021-05-31T09:13:29.011938Z"
    }
   },
   "outputs": [
    {
     "name": "stdout",
     "output_type": "stream",
     "text": [
      "df.shape = (625, 2)\n"
     ]
    },
    {
     "data": {
      "text/html": [
       "<div>\n",
       "<style scoped>\n",
       "    .dataframe tbody tr th:only-of-type {\n",
       "        vertical-align: middle;\n",
       "    }\n",
       "\n",
       "    .dataframe tbody tr th {\n",
       "        vertical-align: top;\n",
       "    }\n",
       "\n",
       "    .dataframe thead th {\n",
       "        text-align: right;\n",
       "    }\n",
       "</style>\n",
       "<table border=\"1\" class=\"dataframe\">\n",
       "  <thead>\n",
       "    <tr style=\"text-align: right;\">\n",
       "      <th></th>\n",
       "      <th>y</th>\n",
       "      <th>ds</th>\n",
       "    </tr>\n",
       "    <tr>\n",
       "      <th>index</th>\n",
       "      <th></th>\n",
       "      <th></th>\n",
       "    </tr>\n",
       "  </thead>\n",
       "  <tbody>\n",
       "    <tr>\n",
       "      <th>2019-09-28</th>\n",
       "      <td>5547</td>\n",
       "      <td>2019-09-28</td>\n",
       "    </tr>\n",
       "    <tr>\n",
       "      <th>2019-10-05</th>\n",
       "      <td>6459</td>\n",
       "      <td>2019-10-05</td>\n",
       "    </tr>\n",
       "    <tr>\n",
       "      <th>2019-10-12</th>\n",
       "      <td>5838</td>\n",
       "      <td>2019-10-12</td>\n",
       "    </tr>\n",
       "    <tr>\n",
       "      <th>2019-10-19</th>\n",
       "      <td>5894</td>\n",
       "      <td>2019-10-19</td>\n",
       "    </tr>\n",
       "    <tr>\n",
       "      <th>2019-10-26</th>\n",
       "      <td>7925</td>\n",
       "      <td>2019-10-26</td>\n",
       "    </tr>\n",
       "  </tbody>\n",
       "</table>\n",
       "</div>"
      ],
      "text/plain": [
       "               y         ds\n",
       "index                      \n",
       "2019-09-28  5547 2019-09-28\n",
       "2019-10-05  6459 2019-10-05\n",
       "2019-10-12  5838 2019-10-12\n",
       "2019-10-19  5894 2019-10-19\n",
       "2019-10-26  7925 2019-10-26"
      ]
     },
     "execution_count": 24,
     "metadata": {},
     "output_type": "execute_result"
    }
   ],
   "source": [
    "#collapse-hide\n",
    "df = pd.read_csv(\n",
    "    filepath_or_buffer='../assets/data/2021-05-31-LSTM timeseries forecasting with Keras Tuner-DATA.csv',\n",
    "    sep=';')\n",
    "\n",
    "df.rename(\n",
    "    columns = {\n",
    "        'date': 'index',\n",
    "        'value': 'y'\n",
    "    }, \n",
    "    inplace=True)\n",
    "\n",
    "df['index'] = pd.to_datetime(\n",
    "    arg=df['index'], \n",
    "    dayfirst=True)\n",
    "\n",
    "df.sort_values(\n",
    "    by='index', \n",
    "    ascending=True,\n",
    "    inplace=True)\n",
    "\n",
    "df.set_index(\n",
    "    keys='index', \n",
    "    inplace=True)\n",
    "\n",
    "df = df.asfreq(\n",
    "    freq='W-SAT')\n",
    "\n",
    "df['ds'] = df.index\n",
    "\n",
    "print('df.shape = {0}'.format(df.shape))\n",
    "\n",
    "df.tail(5)"
   ]
  },
  {
   "cell_type": "markdown",
   "id": "95978887",
   "metadata": {},
   "source": [
    "### Data preparation"
   ]
  },
  {
   "cell_type": "markdown",
   "id": "9cfab60f",
   "metadata": {},
   "source": [
    "Let's keep the fisrt 80% of the data for `training` and the last 20% for `testing`. The cutoff date would be as follow."
   ]
  },
  {
   "cell_type": "code",
   "execution_count": 28,
   "id": "bf5d2f95",
   "metadata": {
    "ExecuteTime": {
     "end_time": "2021-05-31T09:14:02.976753Z",
     "start_time": "2021-05-31T09:14:02.970747Z"
    }
   },
   "outputs": [
    {
     "name": "stdout",
     "output_type": "stream",
     "text": [
      "Cutoff date for training/testing split is 10/06/2017\n"
     ]
    }
   ],
   "source": [
    "#hide_input\n",
    "threshold_date = pd.to_datetime(df.index[int(df.shape[0] * .8)])\n",
    "print('Cutoff date for training/testing split is {0}'.format(threshold_date.strftime('%d/%m/%Y')))"
   ]
  },
  {
   "cell_type": "markdown",
   "id": "92eba902",
   "metadata": {},
   "source": [
    "We can now split the dataframe into 2:"
   ]
  },
  {
   "cell_type": "code",
   "execution_count": 32,
   "id": "e22ac923",
   "metadata": {},
   "outputs": [],
   "source": [
    "# Define filter to split the testing data.\n",
    "test_mask = (df['ds'] >= threshold_date)"
   ]
  },
  {
   "cell_type": "code",
   "execution_count": 33,
   "id": "32d43d19",
   "metadata": {},
   "outputs": [
    {
     "name": "stdout",
     "output_type": "stream",
     "text": [
      "df_train.shape = (500, 2)\n"
     ]
    }
   ],
   "source": [
    "df_train = df[~test_mask]\n",
    "print('df_train.shape = {0}'.format(df_train.shape))"
   ]
  },
  {
   "cell_type": "code",
   "execution_count": 34,
   "id": "43d9624f",
   "metadata": {},
   "outputs": [
    {
     "name": "stdout",
     "output_type": "stream",
     "text": [
      "df_test.shape = (125, 2)\n"
     ]
    }
   ],
   "source": [
    "df_test = df[test_mask]\n",
    "print('df_test.shape = {0}'.format(df_test.shape))"
   ]
  },
  {
   "cell_type": "code",
   "execution_count": null,
   "id": "34f6401b",
   "metadata": {},
   "outputs": [],
   "source": []
  },
  {
   "cell_type": "code",
   "execution_count": null,
   "id": "73c1d827",
   "metadata": {},
   "outputs": [],
   "source": []
  }
 ],
 "metadata": {
  "kernelspec": {
   "display_name": "blog-env-kernel",
   "language": "python",
   "name": "blog-env"
  },
  "language_info": {
   "codemirror_mode": {
    "name": "ipython",
    "version": 3
   },
   "file_extension": ".py",
   "mimetype": "text/x-python",
   "name": "python",
   "nbconvert_exporter": "python",
   "pygments_lexer": "ipython3",
   "version": "3.7.9"
  },
  "toc": {
   "base_numbering": 1,
   "nav_menu": {},
   "number_sections": true,
   "sideBar": true,
   "skip_h1_title": true,
   "title_cell": "Table of Contents",
   "title_sidebar": "Contents",
   "toc_cell": false,
   "toc_position": {},
   "toc_section_display": true,
   "toc_window_display": true
  }
 },
 "nbformat": 4,
 "nbformat_minor": 5
}
