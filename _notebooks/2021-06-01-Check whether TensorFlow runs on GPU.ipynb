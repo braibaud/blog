{
 "cells": [
  {
   "cell_type": "markdown",
   "id": "410bf25a",
   "metadata": {},
   "source": [
    "# Check whether TensorFlow runs on GPU\n",
    "> Instructions you can run to check and confirm whetherTensorFlow is running on GPU or not.\n",
    "\n",
    "- toc: false \n",
    "- badges: true\n",
    "- comments: true\n",
    "- categories: [python, machine learning, tensorflow, gpu]\n",
    "- image: images/copied_from_nb/images/2021-06-01-check-whether-tensorflow-runs-on-gpu-main.jpg"
   ]
  },
  {
   "cell_type": "markdown",
   "id": "1417c1a8",
   "metadata": {},
   "source": [
    "# About\n",
    "\n",
    "We are going to check if a GPU device is made available to `TensorFlow`.\n",
    "\n",
    "![](./images/2021-06-01-check-whether-tensorflow-runs-on-gpu-main.jpg \"Photo by NVidia\")"
   ]
  },
  {
   "cell_type": "markdown",
   "id": "c486df07",
   "metadata": {
    "ExecuteTime": {
     "end_time": "2021-06-08T12:46:24.409351Z",
     "start_time": "2021-06-08T12:46:24.405351Z"
    }
   },
   "source": [
    "# Code"
   ]
  },
  {
   "cell_type": "code",
   "execution_count": 2,
   "id": "765dff02",
   "metadata": {
    "ExecuteTime": {
     "end_time": "2021-06-08T12:46:41.711292Z",
     "start_time": "2021-06-08T12:46:30.915753Z"
    }
   },
   "outputs": [
    {
     "name": "stdout",
     "output_type": "stream",
     "text": [
      "Default GPU Device: /device:GPU:0\n"
     ]
    }
   ],
   "source": [
    "import tensorflow as tf\n",
    "\n",
    "if tf.test.gpu_device_name():\n",
    "    print('Default GPU Device: {}'.format(tf.test.gpu_device_name()))\n",
    "    \n",
    "else:\n",
    "    print('Please install GPU version of TF')"
   ]
  },
  {
   "cell_type": "code",
   "execution_count": null,
   "id": "feca4dae",
   "metadata": {},
   "outputs": [],
   "source": []
  }
 ],
 "metadata": {
  "kernelspec": {
   "display_name": "blog-env-kernel",
   "language": "python",
   "name": "blog-env"
  },
  "language_info": {
   "codemirror_mode": {
    "name": "ipython",
    "version": 3
   },
   "file_extension": ".py",
   "mimetype": "text/x-python",
   "name": "python",
   "nbconvert_exporter": "python",
   "pygments_lexer": "ipython3",
   "version": "3.7.9"
  },
  "toc": {
   "base_numbering": 1,
   "nav_menu": {},
   "number_sections": true,
   "sideBar": true,
   "skip_h1_title": true,
   "title_cell": "Table of Contents",
   "title_sidebar": "Contents",
   "toc_cell": false,
   "toc_position": {},
   "toc_section_display": true,
   "toc_window_display": true
  }
 },
 "nbformat": 4,
 "nbformat_minor": 5
}
