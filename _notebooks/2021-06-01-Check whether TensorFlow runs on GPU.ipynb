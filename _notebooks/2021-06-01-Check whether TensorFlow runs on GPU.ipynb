{
 "cells": [
  {
   "cell_type": "markdown",
   "id": "410bf25a",
   "metadata": {},
   "source": [
    "# Check whether TensorFlow runs on GPU\n",
    "> Instructions you can run to check and confirm whetherTensorFlow is running on GPU or not.\n",
    "\n",
    "- toc: false \n",
    "- badges: true\n",
    "- comments: true\n",
    "- categories: [python, machine learning, tensorflow, gpu]"
   ]
  },
  {
   "cell_type": "code",
   "execution_count": 2,
   "id": "c8a8f3f1",
   "metadata": {
    "ExecuteTime": {
     "end_time": "2021-06-01T20:07:18.529450Z",
     "start_time": "2021-06-01T20:07:18.525460Z"
    }
   },
   "outputs": [],
   "source": [
    "import tensorflow as tf"
   ]
  },
  {
   "cell_type": "code",
   "execution_count": 4,
   "id": "765dff02",
   "metadata": {
    "ExecuteTime": {
     "end_time": "2021-06-01T20:07:39.467690Z",
     "start_time": "2021-06-01T20:07:39.459754Z"
    }
   },
   "outputs": [
    {
     "name": "stdout",
     "output_type": "stream",
     "text": [
      "Please install GPU version of TF\n"
     ]
    }
   ],
   "source": [
    "if tf.test.gpu_device_name():\n",
    "    print('Default GPU Device: {}'.format(tf.test.gpu_device_name()))\n",
    "else:\n",
    "    print('Please install GPU version of TF')"
   ]
  }
 ],
 "metadata": {
  "kernelspec": {
   "display_name": "blog-env-kernel",
   "language": "python",
   "name": "blog-env"
  },
  "language_info": {
   "codemirror_mode": {
    "name": "ipython",
    "version": 3
   },
   "file_extension": ".py",
   "mimetype": "text/x-python",
   "name": "python",
   "nbconvert_exporter": "python",
   "pygments_lexer": "ipython3",
   "version": "3.7.9"
  },
  "toc": {
   "base_numbering": 1,
   "nav_menu": {},
   "number_sections": true,
   "sideBar": true,
   "skip_h1_title": true,
   "title_cell": "Table of Contents",
   "title_sidebar": "Contents",
   "toc_cell": false,
   "toc_position": {},
   "toc_section_display": true,
   "toc_window_display": true
  }
 },
 "nbformat": 4,
 "nbformat_minor": 5
}
