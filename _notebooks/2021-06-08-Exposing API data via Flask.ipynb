{
 "cells": [
  {
   "cell_type": "markdown",
   "id": "cdb4d245",
   "metadata": {},
   "source": [
    "# Exposing API data via Flask\n",
    "> An example of API data transformation and serving.\n",
    "\n",
    "- toc: true \n",
    "- badges: true\n",
    "- comments: true\n",
    "- categories: [python, api, webservice, flask]\n",
    "- image: images/copied_from_nb/images/2021-06-08-exposing-api-data-via-flask-main.jpg"
   ]
  },
  {
   "cell_type": "markdown",
   "id": "1479634c",
   "metadata": {
    "ExecuteTime": {
     "end_time": "2021-06-08T12:05:56.373842Z",
     "start_time": "2021-06-08T12:05:56.305843Z"
    }
   },
   "source": [
    "# About\n",
    "\n",
    "We are going to pull data from a webservice, transform it and serve it back via a webservice.\n",
    "\n",
    "![](./images/2021-06-08-exposing-api-data-via-flask-main.jpg \"Photo by Andrea Davis\")"
   ]
  },
  {
   "cell_type": "markdown",
   "id": "be4db3e8",
   "metadata": {
    "ExecuteTime": {
     "end_time": "2021-06-08T08:19:22.410952Z",
     "start_time": "2021-06-08T08:19:22.405954Z"
    }
   },
   "source": [
    "## The required libraries"
   ]
  },
  {
   "cell_type": "code",
   "execution_count": 3,
   "id": "a19f9e3a",
   "metadata": {
    "ExecuteTime": {
     "end_time": "2021-06-08T13:09:26.945553Z",
     "start_time": "2021-06-08T13:09:25.996092Z"
    }
   },
   "outputs": [],
   "source": [
    "import airbnb as ab\n",
    "import pandas as pd\n",
    "import locale as lo\n",
    "import argparse as ap\n",
    "import traceback as tb\n",
    "import os as os\n",
    "import functools as ft\n",
    "from dateutil import parser as dtp"
   ]
  },
  {
   "cell_type": "markdown",
   "id": "69ed7b83",
   "metadata": {},
   "source": [
    "As we'll expose webservice endpoints, we should import the following `flask` elements.\n",
    "> Those elements can be installed using `pip install flask flask-restful flask-wtf flask-cors`"
   ]
  },
  {
   "cell_type": "code",
   "execution_count": 4,
   "id": "ee2d4d38",
   "metadata": {
    "ExecuteTime": {
     "end_time": "2021-06-08T13:09:27.644554Z",
     "start_time": "2021-06-08T13:09:26.947500Z"
    }
   },
   "outputs": [],
   "source": [
    "import flask as fl\n",
    "import flask_restful as flr\n",
    "import flask_restful.reqparse as flr_r\n",
    "import flask_cors as flc\n",
    "import flask_wtf.csrf as flwc"
   ]
  },
  {
   "cell_type": "markdown",
   "id": "8e80101b",
   "metadata": {},
   "source": [
    "## Get data from Airbnb API"
   ]
  },
  {
   "cell_type": "markdown",
   "id": "53972a6a",
   "metadata": {},
   "source": [
    "> Let's pull `reviews` and `rating` information from **Airbnb** for a given `listing_id` (a property available to rent on Airbnb)."
   ]
  },
  {
   "cell_type": "code",
   "execution_count": 44,
   "id": "22c38d98",
   "metadata": {
    "ExecuteTime": {
     "end_time": "2021-06-08T09:56:31.938540Z",
     "start_time": "2021-06-08T09:56:31.922649Z"
    },
    "code_folding": [
     0
    ],
    "scrolled": false
   },
   "outputs": [],
   "source": [
    "def get_reviews(\n",
    "    listing_id, \n",
    "    locale='fr', \n",
    "    page_size=50, \n",
    "    keep_n_reviews=10, \n",
    "    min_rating=3,\n",
    "    most_recent_first=True):\n",
    "\n",
    "    api = ab.api.Api(randomize=True)\n",
    "    api._session.headers['x-airbnb-locale'] = locale\n",
    "    api._session.headers['accept-language'] = locale\n",
    "    lo.setlocale(lo.LC_ALL, locale)\n",
    "    \n",
    "    reviews = []\n",
    "    offset = 0\n",
    "    reviews_count = 0\n",
    "    has_more_reviews = True\n",
    "    reviews_count = -1\n",
    "\n",
    "    while has_more_reviews:\n",
    "        page_reviews = api.get_reviews(\n",
    "            listing_id=listing_id, \n",
    "            offset=offset, \n",
    "            limit=page_size)\n",
    "\n",
    "        for review in page_reviews['reviews']:\n",
    "            review['created_at__dt'] = dtp.parse(review['created_at'])\n",
    "            reviews.append(review)\n",
    "\n",
    "        reviews_count = page_reviews['metadata']['reviews_count']\n",
    "\n",
    "        if len(page_reviews['reviews']) < page_size:\n",
    "            has_more_reviews = False\n",
    "        else:\n",
    "            offset += page_size\n",
    "\n",
    "    if min_rating is not None:\n",
    "        reviews = [x for x in reviews if x['rating'] >= min_rating]\n",
    "    \n",
    "    def compare_reviews(left, right, most_recent_first=most_recent_first):\n",
    "        if most_recent_first:\n",
    "            if left['created_at__dt'] < right['created_at__dt']:\n",
    "                return 1\n",
    "            elif left['created_at__dt'] == right['created_at__dt']:\n",
    "                return 0\n",
    "            elif left['created_at__dt'] > right['created_at__dt']:\n",
    "                return -1\n",
    "            \n",
    "    reviews = sorted(\n",
    "        reviews, \n",
    "        key=ft.cmp_to_key(compare_reviews))\n",
    "    \n",
    "    if keep_n_reviews > 0:\n",
    "        reviews = reviews[:keep_n_reviews]\n",
    "        \n",
    "    return reviews"
   ]
  },
  {
   "cell_type": "code",
   "execution_count": 45,
   "id": "c65bc288",
   "metadata": {
    "ExecuteTime": {
     "end_time": "2021-06-08T09:56:32.358499Z",
     "start_time": "2021-06-08T09:56:32.350495Z"
    },
    "code_folding": [
     0
    ]
   },
   "outputs": [],
   "source": [
    "def get_listing_details(\n",
    "    listing_id, \n",
    "    locale='fr'):\n",
    "    \n",
    "    api = ab.api.Api(randomize=True)\n",
    "    api._session.headers['x-airbnb-locale'] = locale\n",
    "    api._session.headers['accept-language'] = locale\n",
    "    lo.setlocale(lo.LC_ALL, locale)\n",
    "    \n",
    "    url_base = ab.api.API_URL\n",
    "    \n",
    "    r = api._session.get(\n",
    "        '{0}/pdp_listing_details/{1}'.format(\n",
    "            url_base,\n",
    "            listing_id), \n",
    "        params={ '_format': 'for_rooms_show'})\n",
    "    \n",
    "    r.raise_for_status()\n",
    "    \n",
    "    return r.json()"
   ]
  },
  {
   "cell_type": "code",
   "execution_count": 49,
   "id": "1831e09c",
   "metadata": {
    "ExecuteTime": {
     "end_time": "2021-06-08T09:56:47.356769Z",
     "start_time": "2021-06-08T09:56:47.346768Z"
    },
    "code_folding": [
     0
    ]
   },
   "outputs": [],
   "source": [
    "def get_ratings(\n",
    "    listing_id, \n",
    "    locale='fr',\n",
    "    keep_n_reviews=10, \n",
    "    min_rating=3,\n",
    "    most_recent_first=True):\n",
    "    \n",
    "    listing_details = get_listing_details(\n",
    "        listing_id=listing_id, \n",
    "        locale=locale)\n",
    "    \n",
    "    reviews = get_reviews(\n",
    "        listing_id=listing_id, \n",
    "        locale=locale, \n",
    "        keep_n_reviews=keep_n_reviews, \n",
    "        min_rating=min_rating,\n",
    "        most_recent_first=most_recent_first)\n",
    "    \n",
    "    overall_rating_text = listing_details['pdp_listing_detail']['reviews_module']['localized_overall_rating']\n",
    "    overall_rating_terms = listing_details['pdp_listing_detail']['reviews_module']['appreciation_tags']\n",
    "    \n",
    "    review_details = listing_details['pdp_listing_detail']['review_details_interface']\n",
    "\n",
    "    overall_rating = lo.atof(overall_rating_text)\n",
    "    review_count = review_details['review_count']\n",
    "    review_summary = review_details['review_summary']\n",
    "    \n",
    "    for summary in review_summary:\n",
    "        summary['rating'] = lo.atof(summary['localized_rating'])\n",
    "        \n",
    "    return {\n",
    "        'overall_rating': overall_rating, \n",
    "        'review_count': review_count, \n",
    "        'categories': review_summary,\n",
    "        'rating_terms': overall_rating_terms,\n",
    "        'reviews': reviews\n",
    "    }"
   ]
  },
  {
   "cell_type": "markdown",
   "id": "c085309b",
   "metadata": {},
   "source": [
    "We can get the individual `reviews` by calling the `get_reviews` function defiend above:"
   ]
  },
  {
   "cell_type": "code",
   "execution_count": 50,
   "id": "db2dba02",
   "metadata": {
    "ExecuteTime": {
     "end_time": "2021-06-08T09:56:50.615986Z",
     "start_time": "2021-06-08T09:56:50.610988Z"
    }
   },
   "outputs": [],
   "source": [
    "listing_id = 36902451"
   ]
  },
  {
   "cell_type": "markdown",
   "id": "a19335cd",
   "metadata": {},
   "source": [
    "## Publishing data as a webservice"
   ]
  },
  {
   "cell_type": "markdown",
   "id": "8709b557",
   "metadata": {},
   "source": [
    "With `flask` you can bind a class to a webservice endpoint by deriving a class from the `Resouce` base class and providing codes for each supported verb (`get`, `post`, etc.). Let's define a basic endpoint that will only be used as a simple `/info` heartbeat check."
   ]
  },
  {
   "cell_type": "code",
   "execution_count": 5,
   "id": "206895bc",
   "metadata": {
    "ExecuteTime": {
     "end_time": "2021-06-08T13:09:31.993082Z",
     "start_time": "2021-06-08T13:09:31.988153Z"
    }
   },
   "outputs": [],
   "source": [
    "class Info(flr.Resource):\n",
    "\n",
    "    def __init__(self):\n",
    "        super(Info, self).__init__()\n",
    "\n",
    "    def get(self):\n",
    "        return {\n",
    "            'success': True,\n",
    "            'version': '0.1.0',\n",
    "            'status': 'ready'\n",
    "        }"
   ]
  },
  {
   "cell_type": "markdown",
   "id": "0010fc87",
   "metadata": {},
   "source": [
    "We can define the `application` as well as a default `/info` endpoint this way:"
   ]
  },
  {
   "cell_type": "code",
   "execution_count": 6,
   "id": "d2037e31",
   "metadata": {
    "ExecuteTime": {
     "end_time": "2021-06-08T13:09:33.133011Z",
     "start_time": "2021-06-08T13:09:33.124010Z"
    },
    "code_folding": []
   },
   "outputs": [],
   "source": [
    "def configure_api():\n",
    "\n",
    "    app = fl.Flask('apps')\n",
    "    app.config['BUNDLE_ERRORS'] = True\n",
    "\n",
    "    csrf = flwc.CSRFProtect()\n",
    "    csrf.init_app(app)\n",
    "\n",
    "    cors = flc.CORS(\n",
    "        app, \n",
    "        resources={\n",
    "            r'/*': {\n",
    "                'origins': '*', \n",
    "                'send_wildcard': 'False'\n",
    "            }\n",
    "        })\n",
    "\n",
    "    api = flr.Api(\n",
    "        app=app,\n",
    "        catch_all_404s=True)\n",
    "\n",
    "    api.add_resource(\n",
    "        Info, \n",
    "        '/info',\n",
    "        endpoint='info')\n",
    "\n",
    "    return {\n",
    "        'app': app, \n",
    "        'csrf': csrf, \n",
    "        'cors': cors, \n",
    "        'api': api\n",
    "    }"
   ]
  },
  {
   "cell_type": "markdown",
   "id": "79e63728",
   "metadata": {},
   "source": [
    "Let's create the application components:"
   ]
  },
  {
   "cell_type": "code",
   "execution_count": 7,
   "id": "4d87d76f",
   "metadata": {
    "ExecuteTime": {
     "end_time": "2021-06-08T13:10:32.294176Z",
     "start_time": "2021-06-08T13:10:32.272165Z"
    }
   },
   "outputs": [],
   "source": [
    "webservice_app = configure_api()"
   ]
  },
  {
   "cell_type": "markdown",
   "id": "6135fde1",
   "metadata": {
    "ExecuteTime": {
     "end_time": "2021-06-08T13:10:36.270036Z",
     "start_time": "2021-06-08T13:10:36.251036Z"
    }
   },
   "source": [
    "Let's create an endpoint for the **Airbnb** data."
   ]
  },
  {
   "cell_type": "code",
   "execution_count": 10,
   "id": "b6ae865f",
   "metadata": {
    "ExecuteTime": {
     "end_time": "2021-06-08T13:27:49.156759Z",
     "start_time": "2021-06-08T13:27:49.140756Z"
    },
    "code_folding": [
     2
    ]
   },
   "outputs": [],
   "source": [
    "class AirbnbRating(flr.Resource):\n",
    "\n",
    "    def __init__(self):\n",
    "\n",
    "        self.reqparse = flr_r.RequestParser()\n",
    "\n",
    "        self.reqparse.add_argument(\n",
    "            'listing_id',\n",
    "            type=int,\n",
    "            location='json',\n",
    "            required=True,\n",
    "            help='\"listing_id\" is mandatory ({error_msg})')\n",
    "\n",
    "        self.reqparse.add_argument(\n",
    "            'locale',\n",
    "            type=str,\n",
    "            default='fr',\n",
    "            location='json',\n",
    "            required=False,\n",
    "            help='\"locale\" error ({error_msg})')\n",
    "\n",
    "        self.reqparse.add_argument(\n",
    "            'keep_n_reviews',\n",
    "            type=int,\n",
    "            default=10,\n",
    "            location='json',\n",
    "            required=False,\n",
    "            help='\"keep_n_reviews\" error ({error_msg})')\n",
    "\n",
    "        self.reqparse.add_argument(\n",
    "            'min_rating',\n",
    "            type=int,\n",
    "            default=3,\n",
    "            location='json',\n",
    "            required=False,\n",
    "            help='\"min_rating\" error ({error_msg})')\n",
    "\n",
    "        self.reqparse.add_argument(\n",
    "            'most_recent_first',\n",
    "            type=bool,\n",
    "            default=True,\n",
    "            location='json',\n",
    "            required=False,\n",
    "            help='\"most_recent_first\" error ({error_msg})')\n",
    "    \n",
    "        super(AirbnbRating, self).__init__()\n",
    "\n",
    "    def post(self):\n",
    "\n",
    "        success = False\n",
    "        error = None\n",
    "        error_details = None\n",
    "        result = None\n",
    "\n",
    "        try:\n",
    "            args = self.reqparse.parse_args()\n",
    "            \n",
    "            result = get_ratings(\n",
    "                listing_id=args['listing_id'], \n",
    "                locale=args['locale'],\n",
    "                keep_n_reviews=args['keep_n_reviews'], \n",
    "                min_rating=args['min_rating'],\n",
    "                most_recent_first=args['most_recent_first'])\n",
    "\n",
    "            success = True\n",
    "\n",
    "        except Exception as e:\n",
    "            error_details = tb.format_exc()\n",
    "            error = e.__str__()\n",
    "\n",
    "        return {\n",
    "            'success': success,\n",
    "            'error': error,\n",
    "            'error_details': error_details,\n",
    "            'result': result\n",
    "        }"
   ]
  },
  {
   "cell_type": "markdown",
   "id": "193f359d",
   "metadata": {},
   "source": [
    "We can add this new endpoint:"
   ]
  },
  {
   "cell_type": "code",
   "execution_count": 11,
   "id": "bdcef9d2",
   "metadata": {
    "ExecuteTime": {
     "end_time": "2021-06-08T13:28:39.299444Z",
     "start_time": "2021-06-08T13:28:39.293505Z"
    }
   },
   "outputs": [],
   "source": [
    "webservice_app['api'].add_resource(\n",
    "    AirbnbRating, \n",
    "    '/rating',\n",
    "    endpoint='rating')"
   ]
  },
  {
   "cell_type": "markdown",
   "id": "74f3e1cb",
   "metadata": {},
   "source": [
    "Let's start the webservice"
   ]
  },
  {
   "cell_type": "code",
   "execution_count": 14,
   "id": "3b3a4a42",
   "metadata": {
    "ExecuteTime": {
     "end_time": "2021-06-08T13:33:08.792116Z",
     "start_time": "2021-06-08T13:31:14.579532Z"
    }
   },
   "outputs": [
    {
     "name": "stdout",
     "output_type": "stream",
     "text": [
      " * Serving Flask app 'apps' (lazy loading)\n",
      " * Environment: production\n",
      "   WARNING: This is a development server. Do not use it in a production deployment.\n",
      "   Use a production WSGI server instead.\n",
      " * Debug mode: off\n"
     ]
    },
    {
     "name": "stderr",
     "output_type": "stream",
     "text": [
      " * Running on all addresses.\n",
      "   WARNING: This is a development server. Do not use it in a production deployment.\n",
      " * Running on http://192.168.0.19:1234/ (Press CTRL+C to quit)\n",
      "192.168.0.19 - - [08/Jun/2021 15:31:23] \"GET / HTTP/1.1\" 404 -\n",
      "192.168.0.19 - - [08/Jun/2021 15:31:23] \"GET /favicon.ico HTTP/1.1\" 404 -\n",
      "192.168.0.19 - - [08/Jun/2021 15:31:29] \"GET /info HTTP/1.1\" 200 -\n",
      "127.0.0.1 - - [08/Jun/2021 15:31:49] \"GET /info HTTP/1.1\" 200 -\n",
      "127.0.0.1 - - [08/Jun/2021 15:31:50] \"GET /favicon.ico HTTP/1.1\" 404 -\n"
     ]
    }
   ],
   "source": [
    "webservice_app['app'].run(\n",
    "    host='0.0.0.0',\n",
    "    port=1234,\n",
    "    debug=False)"
   ]
  },
  {
   "cell_type": "markdown",
   "id": "64e1eefb",
   "metadata": {
    "ExecuteTime": {
     "end_time": "2021-06-08T13:30:22.880432Z",
     "start_time": "2021-06-08T13:30:22.783432Z"
    }
   },
   "source": [
    "We can navigate to the info endpoint and verify the webservice is doing what we need:"
   ]
  },
  {
   "cell_type": "markdown",
   "id": "7cf2526f",
   "metadata": {},
   "source": [
    "![](./images/info-endpoint.png)"
   ]
  },
  {
   "cell_type": "code",
   "execution_count": null,
   "id": "f352a04e",
   "metadata": {},
   "outputs": [],
   "source": []
  }
 ],
 "metadata": {
  "kernelspec": {
   "display_name": "blog-env-kernel",
   "language": "python",
   "name": "blog-env"
  },
  "language_info": {
   "codemirror_mode": {
    "name": "ipython",
    "version": 3
   },
   "file_extension": ".py",
   "mimetype": "text/x-python",
   "name": "python",
   "nbconvert_exporter": "python",
   "pygments_lexer": "ipython3",
   "version": "3.7.9"
  },
  "toc": {
   "base_numbering": 1,
   "nav_menu": {},
   "number_sections": true,
   "sideBar": true,
   "skip_h1_title": true,
   "title_cell": "Table of Contents",
   "title_sidebar": "Contents",
   "toc_cell": false,
   "toc_position": {
    "height": "calc(100% - 180px)",
    "left": "10px",
    "top": "150px",
    "width": "487.867px"
   },
   "toc_section_display": true,
   "toc_window_display": true
  }
 },
 "nbformat": 4,
 "nbformat_minor": 5
}
